{
 "cells": [
  {
   "cell_type": "code",
   "execution_count": null,
   "metadata": {},
   "outputs": [],
   "source": [
    "import pandas as pd\n",
    "import web3\n",
    "import etherscan\n",
    "import warnings\n",
    "\n",
    "warnings.filterwarnings('ignore')\n",
    "\n",
    "# APIs \n",
    "eth = etherscan(\"QS7M5JJPJFDNKQA1THE6PYAZSCNRC287DY\")\n",
    "projectID= '865751797f4045019b7203001b8c7c91'\n",
    "w3 = web3(web3.HTTPProvider(projectID))\n",
    "\n",
    "target_address='0xa57Bd00134B2850B2a1c55860c9e9ea100fDd6CF'\n",
    "start_block=14640000\n",
    "end_block=14650000\n",
    "\n",
    "transactions=eth.get_normal_txs_by_address(address=target_address, startblock= start_block, endblock= end_block, sort=\"asc\")\n",
    "tx_df=pd.DataFrame(transactions)\n"
   ]
  }
 ],
 "metadata": {
  "kernelspec": {
   "display_name": "Python 3.9.2 64-bit ('3.9.2')",
   "language": "python",
   "name": "python3"
  },
  "language_info": {
   "codemirror_mode": {
    "name": "ipython",
    "version": 3
   },
   "file_extension": ".py",
   "mimetype": "text/x-python",
   "name": "python",
   "nbconvert_exporter": "python",
   "pygments_lexer": "ipython3",
   "version": "3.9.2"
  },
  "orig_nbformat": 4,
  "vscode": {
   "interpreter": {
    "hash": "583f315ab2c4454ac71646021ec5cbb04a59949f624b3f601b92bbe98d2c1767"
   }
  }
 },
 "nbformat": 4,
 "nbformat_minor": 2
}
