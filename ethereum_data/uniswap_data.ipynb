{
 "cells": [
  {
   "cell_type": "markdown",
   "metadata": {},
   "source": [
    "Testing: "
   ]
  },
  {
   "cell_type": "code",
   "execution_count": 4,
   "metadata": {},
   "outputs": [
    {
     "name": "stdout",
     "output_type": "stream",
     "text": [
      "Requirement already satisfied: numpy in /Users/stefanie/.pyenv/versions/3.9.2/lib/python3.9/site-packages (1.23.4)\n"
     ]
    }
   ],
   "source": [
    "# Install a pip package in the current Jupyter kernel\n",
    "import sys\n",
    "!{sys.executable} -m pip install numpy"
   ]
  },
  {
   "cell_type": "markdown",
   "metadata": {},
   "source": [
    "Import necessary packages"
   ]
  },
  {
   "cell_type": "code",
   "execution_count": 5,
   "metadata": {},
   "outputs": [
    {
     "name": "stdout",
     "output_type": "stream",
     "text": [
      "Requirement already satisfied: pandas in /Users/stefanie/.pyenv/versions/3.9.2/lib/python3.9/site-packages (1.5.1)\n",
      "Requirement already satisfied: numpy>=1.20.3 in /Users/stefanie/.pyenv/versions/3.9.2/lib/python3.9/site-packages (from pandas) (1.23.4)\n",
      "Requirement already satisfied: python-dateutil>=2.8.1 in /Users/stefanie/.pyenv/versions/3.9.2/lib/python3.9/site-packages (from pandas) (2.8.2)\n",
      "Requirement already satisfied: pytz>=2020.1 in /Users/stefanie/.pyenv/versions/3.9.2/lib/python3.9/site-packages (from pandas) (2022.5)\n",
      "Requirement already satisfied: six>=1.5 in /Users/stefanie/.pyenv/versions/3.9.2/lib/python3.9/site-packages (from python-dateutil>=2.8.1->pandas) (1.16.0)\n",
      "Requirement already satisfied: web3 in /Users/stefanie/.pyenv/versions/3.9.2/lib/python3.9/site-packages (5.31.1)\n",
      "Requirement already satisfied: eth-rlp<0.3 in /Users/stefanie/.pyenv/versions/3.9.2/lib/python3.9/site-packages (from web3) (0.2.1)\n",
      "Requirement already satisfied: jsonschema<5,>=3.2.0 in /Users/stefanie/.pyenv/versions/3.9.2/lib/python3.9/site-packages (from web3) (4.16.0)\n",
      "Requirement already satisfied: aiohttp<4,>=3.7.4.post0 in /Users/stefanie/.pyenv/versions/3.9.2/lib/python3.9/site-packages (from web3) (3.8.3)\n",
      "Requirement already satisfied: eth-typing<3.0.0,>=2.0.0 in /Users/stefanie/.pyenv/versions/3.9.2/lib/python3.9/site-packages (from web3) (2.3.0)\n",
      "Requirement already satisfied: websockets<10,>=9.1 in /Users/stefanie/.pyenv/versions/3.9.2/lib/python3.9/site-packages (from web3) (9.1)\n",
      "Requirement already satisfied: eth-hash[pycryptodome]<1.0.0,>=0.2.0 in /Users/stefanie/.pyenv/versions/3.9.2/lib/python3.9/site-packages (from web3) (0.5.0)\n",
      "Requirement already satisfied: hexbytes<1.0.0,>=0.1.0 in /Users/stefanie/.pyenv/versions/3.9.2/lib/python3.9/site-packages (from web3) (0.3.0)\n",
      "Requirement already satisfied: ipfshttpclient==0.8.0a2 in /Users/stefanie/.pyenv/versions/3.9.2/lib/python3.9/site-packages (from web3) (0.8.0a2)\n",
      "Requirement already satisfied: eth-utils<2.0.0,>=1.9.5 in /Users/stefanie/.pyenv/versions/3.9.2/lib/python3.9/site-packages (from web3) (1.10.0)\n",
      "Requirement already satisfied: lru-dict<2.0.0,>=1.1.6 in /Users/stefanie/.pyenv/versions/3.9.2/lib/python3.9/site-packages (from web3) (1.1.8)\n",
      "Requirement already satisfied: eth-account<0.6.0,>=0.5.9 in /Users/stefanie/.pyenv/versions/3.9.2/lib/python3.9/site-packages (from web3) (0.5.9)\n",
      "Requirement already satisfied: requests<3.0.0,>=2.16.0 in /Users/stefanie/.pyenv/versions/3.9.2/lib/python3.9/site-packages (from web3) (2.28.1)\n",
      "Requirement already satisfied: protobuf==3.19.5 in /Users/stefanie/.pyenv/versions/3.9.2/lib/python3.9/site-packages (from web3) (3.19.5)\n",
      "Requirement already satisfied: eth-abi<3.0.0,>=2.0.0b6 in /Users/stefanie/.pyenv/versions/3.9.2/lib/python3.9/site-packages (from web3) (2.2.0)\n",
      "Requirement already satisfied: multiaddr>=0.0.7 in /Users/stefanie/.pyenv/versions/3.9.2/lib/python3.9/site-packages (from ipfshttpclient==0.8.0a2->web3) (0.0.9)\n",
      "Requirement already satisfied: async-timeout<5.0,>=4.0.0a3 in /Users/stefanie/.pyenv/versions/3.9.2/lib/python3.9/site-packages (from aiohttp<4,>=3.7.4.post0->web3) (4.0.2)\n",
      "Requirement already satisfied: attrs>=17.3.0 in /Users/stefanie/.pyenv/versions/3.9.2/lib/python3.9/site-packages (from aiohttp<4,>=3.7.4.post0->web3) (22.1.0)\n",
      "Requirement already satisfied: charset-normalizer<3.0,>=2.0 in /Users/stefanie/.pyenv/versions/3.9.2/lib/python3.9/site-packages (from aiohttp<4,>=3.7.4.post0->web3) (2.1.1)\n",
      "Requirement already satisfied: yarl<2.0,>=1.0 in /Users/stefanie/.pyenv/versions/3.9.2/lib/python3.9/site-packages (from aiohttp<4,>=3.7.4.post0->web3) (1.8.1)\n",
      "Requirement already satisfied: aiosignal>=1.1.2 in /Users/stefanie/.pyenv/versions/3.9.2/lib/python3.9/site-packages (from aiohttp<4,>=3.7.4.post0->web3) (1.2.0)\n",
      "Requirement already satisfied: multidict<7.0,>=4.5 in /Users/stefanie/.pyenv/versions/3.9.2/lib/python3.9/site-packages (from aiohttp<4,>=3.7.4.post0->web3) (6.0.2)\n",
      "Requirement already satisfied: frozenlist>=1.1.1 in /Users/stefanie/.pyenv/versions/3.9.2/lib/python3.9/site-packages (from aiohttp<4,>=3.7.4.post0->web3) (1.3.1)\n",
      "Requirement already satisfied: parsimonious<0.9.0,>=0.8.0 in /Users/stefanie/.pyenv/versions/3.9.2/lib/python3.9/site-packages (from eth-abi<3.0.0,>=2.0.0b6->web3) (0.8.1)\n",
      "Requirement already satisfied: rlp<3,>=1.0.0 in /Users/stefanie/.pyenv/versions/3.9.2/lib/python3.9/site-packages (from eth-account<0.6.0,>=0.5.9->web3) (2.0.1)\n",
      "Requirement already satisfied: eth-keys<0.4.0,>=0.3.4 in /Users/stefanie/.pyenv/versions/3.9.2/lib/python3.9/site-packages (from eth-account<0.6.0,>=0.5.9->web3) (0.3.4)\n",
      "Requirement already satisfied: bitarray<3,>=1.2.1 in /Users/stefanie/.pyenv/versions/3.9.2/lib/python3.9/site-packages (from eth-account<0.6.0,>=0.5.9->web3) (2.6.0)\n",
      "Requirement already satisfied: eth-keyfile<0.6.0,>=0.5.0 in /Users/stefanie/.pyenv/versions/3.9.2/lib/python3.9/site-packages (from eth-account<0.6.0,>=0.5.9->web3) (0.5.1)\n",
      "Requirement already satisfied: pycryptodome<4,>=3.6.6 in /Users/stefanie/.pyenv/versions/3.9.2/lib/python3.9/site-packages (from eth-hash[pycryptodome]<1.0.0,>=0.2.0->web3) (3.15.0)\n",
      "Requirement already satisfied: cytoolz<1.0.0,>=0.10.1 in /Users/stefanie/.pyenv/versions/3.9.2/lib/python3.9/site-packages (from eth-utils<2.0.0,>=1.9.5->web3) (0.12.0)\n",
      "Collecting eth-utils<2.0.0,>=1.9.5\n",
      "  Using cached eth_utils-1.9.5-py3-none-any.whl (23 kB)\n",
      "Requirement already satisfied: pyrsistent!=0.17.0,!=0.17.1,!=0.17.2,>=0.14.0 in /Users/stefanie/.pyenv/versions/3.9.2/lib/python3.9/site-packages (from jsonschema<5,>=3.2.0->web3) (0.18.1)\n",
      "Requirement already satisfied: idna<4,>=2.5 in /Users/stefanie/.pyenv/versions/3.9.2/lib/python3.9/site-packages (from requests<3.0.0,>=2.16.0->web3) (3.4)\n",
      "Requirement already satisfied: certifi>=2017.4.17 in /Users/stefanie/.pyenv/versions/3.9.2/lib/python3.9/site-packages (from requests<3.0.0,>=2.16.0->web3) (2022.9.24)\n",
      "Requirement already satisfied: urllib3<1.27,>=1.21.1 in /Users/stefanie/.pyenv/versions/3.9.2/lib/python3.9/site-packages (from requests<3.0.0,>=2.16.0->web3) (1.26.12)\n",
      "Requirement already satisfied: toolz>=0.8.0 in /Users/stefanie/.pyenv/versions/3.9.2/lib/python3.9/site-packages (from cytoolz<1.0.0,>=0.10.1->eth-utils<2.0.0,>=1.9.5->web3) (0.12.0)\n",
      "Requirement already satisfied: base58 in /Users/stefanie/.pyenv/versions/3.9.2/lib/python3.9/site-packages (from multiaddr>=0.0.7->ipfshttpclient==0.8.0a2->web3) (2.1.1)\n",
      "Requirement already satisfied: six in /Users/stefanie/.pyenv/versions/3.9.2/lib/python3.9/site-packages (from multiaddr>=0.0.7->ipfshttpclient==0.8.0a2->web3) (1.16.0)\n",
      "Requirement already satisfied: netaddr in /Users/stefanie/.pyenv/versions/3.9.2/lib/python3.9/site-packages (from multiaddr>=0.0.7->ipfshttpclient==0.8.0a2->web3) (0.8.0)\n",
      "Requirement already satisfied: varint in /Users/stefanie/.pyenv/versions/3.9.2/lib/python3.9/site-packages (from multiaddr>=0.0.7->ipfshttpclient==0.8.0a2->web3) (1.0.2)\n",
      "Installing collected packages: eth-utils\n",
      "  Attempting uninstall: eth-utils\n",
      "    Found existing installation: eth-utils 1.10.0\n",
      "    Uninstalling eth-utils-1.10.0:\n",
      "      Successfully uninstalled eth-utils-1.10.0\n",
      "Successfully installed eth-utils-1.9.5\n",
      "Requirement already satisfied: etherscan in /Users/stefanie/.pyenv/versions/3.9.2/lib/python3.9/site-packages (0.3.0)\n",
      "Requirement already satisfied: requests-cache in /Users/stefanie/.pyenv/versions/3.9.2/lib/python3.9/site-packages (from etherscan) (0.9.7)\n",
      "Requirement already satisfied: url-normalize>=1.4 in /Users/stefanie/.pyenv/versions/3.9.2/lib/python3.9/site-packages (from requests-cache->etherscan) (1.4.3)\n",
      "Requirement already satisfied: cattrs>=22.2 in /Users/stefanie/.pyenv/versions/3.9.2/lib/python3.9/site-packages (from requests-cache->etherscan) (22.2.0)\n",
      "Requirement already satisfied: urllib3>=1.25.5 in /Users/stefanie/.pyenv/versions/3.9.2/lib/python3.9/site-packages (from requests-cache->etherscan) (1.26.12)\n",
      "Requirement already satisfied: appdirs>=1.4.4 in /Users/stefanie/.pyenv/versions/3.9.2/lib/python3.9/site-packages (from requests-cache->etherscan) (1.4.4)\n",
      "Requirement already satisfied: requests>=2.22 in /Users/stefanie/.pyenv/versions/3.9.2/lib/python3.9/site-packages (from requests-cache->etherscan) (2.28.1)\n",
      "Requirement already satisfied: attrs>=21.2 in /Users/stefanie/.pyenv/versions/3.9.2/lib/python3.9/site-packages (from requests-cache->etherscan) (22.1.0)\n",
      "Requirement already satisfied: exceptiongroup in /Users/stefanie/.pyenv/versions/3.9.2/lib/python3.9/site-packages (from cattrs>=22.2->requests-cache->etherscan) (1.0.0)\n",
      "Requirement already satisfied: certifi>=2017.4.17 in /Users/stefanie/.pyenv/versions/3.9.2/lib/python3.9/site-packages (from requests>=2.22->requests-cache->etherscan) (2022.9.24)\n",
      "Requirement already satisfied: idna<4,>=2.5 in /Users/stefanie/.pyenv/versions/3.9.2/lib/python3.9/site-packages (from requests>=2.22->requests-cache->etherscan) (3.4)\n",
      "Requirement already satisfied: charset-normalizer<3,>=2 in /Users/stefanie/.pyenv/versions/3.9.2/lib/python3.9/site-packages (from requests>=2.22->requests-cache->etherscan) (2.1.1)\n",
      "Requirement already satisfied: six in /Users/stefanie/.pyenv/versions/3.9.2/lib/python3.9/site-packages (from url-normalize>=1.4->requests-cache->etherscan) (1.16.0)\n"
     ]
    }
   ],
   "source": [
    "# Install a pip package in the current Jupyter kernel\n",
    "import sys\n",
    "!{sys.executable} -m pip install pandas\n",
    "!{sys.executable} -m pip install web3\n",
    "!{sys.executable} -m pip install etherscan"
   ]
  },
  {
   "cell_type": "code",
   "execution_count": 6,
   "metadata": {},
   "outputs": [
    {
     "ename": "ImportError",
     "evalue": "cannot import name 'web3' from 'web3' (/Users/stefanie/.pyenv/versions/3.9.2/lib/python3.9/site-packages/web3/__init__.py)",
     "output_type": "error",
     "traceback": [
      "\u001b[0;31m---------------------------------------------------------------------------\u001b[0m",
      "\u001b[0;31mImportError\u001b[0m                               Traceback (most recent call last)",
      "Cell \u001b[0;32mIn [6], line 6\u001b[0m\n\u001b[1;32m      1\u001b[0m \u001b[39m# %pip install pandas \u001b[39;00m\n\u001b[1;32m      2\u001b[0m \u001b[39m# %pip install web3\u001b[39;00m\n\u001b[1;32m      3\u001b[0m \u001b[39m# %pip install etherscan\u001b[39;00m\n\u001b[1;32m      5\u001b[0m \u001b[39mimport\u001b[39;00m \u001b[39mpandas\u001b[39;00m \u001b[39mas\u001b[39;00m \u001b[39mpd\u001b[39;00m\n\u001b[0;32m----> 6\u001b[0m \u001b[39mfrom\u001b[39;00m \u001b[39mweb3\u001b[39;00m \u001b[39mimport\u001b[39;00m web3\n\u001b[1;32m      7\u001b[0m \u001b[39mfrom\u001b[39;00m \u001b[39metherscan\u001b[39;00m \u001b[39mimport\u001b[39;00m etherscan\n\u001b[1;32m      8\u001b[0m \u001b[39mimport\u001b[39;00m \u001b[39mwarnings\u001b[39;00m\n",
      "\u001b[0;31mImportError\u001b[0m: cannot import name 'web3' from 'web3' (/Users/stefanie/.pyenv/versions/3.9.2/lib/python3.9/site-packages/web3/__init__.py)"
     ]
    }
   ],
   "source": [
    "# %pip install pandas \n",
    "# %pip install web3\n",
    "# %pip install etherscan\n",
    "\n",
    "import pandas as pd\n",
    "from web3 import web3\n",
    "from etherscan import etherscan\n",
    "import warnings\n",
    "\n",
    "\n",
    "warnings.filterwarnings('ignore')\n",
    "\n",
    "# APIs \n",
    "eth = etherscan(\"QS7M5JJPJFDNKQA1THE6PYAZSCNRC287DY\")\n",
    "projectID= '865751797f4045019b7203001b8c7c91'\n",
    "w3 = web3(web3.HTTPProvider(projectID))\n",
    "\n",
    "target_address='0xa57Bd00134B2850B2a1c55860c9e9ea100fDd6CF'\n",
    "start_block=14640000\n",
    "end_block=14650000\n",
    "\n",
    "transactions=eth.get_normal_txs_by_address(address=target_address, startblock= start_block, endblock= end_block, sort=\"asc\")\n",
    "tx_df=pd.DataFrame(transactions)\n"
   ]
  }
 ],
 "metadata": {
  "kernelspec": {
   "display_name": "Python 3.9.2 64-bit ('3.9.2')",
   "language": "python",
   "name": "python3"
  },
  "language_info": {
   "codemirror_mode": {
    "name": "ipython",
    "version": 3
   },
   "file_extension": ".py",
   "mimetype": "text/x-python",
   "name": "python",
   "nbconvert_exporter": "python",
   "pygments_lexer": "ipython3",
   "version": "3.9.2"
  },
  "orig_nbformat": 4,
  "vscode": {
   "interpreter": {
    "hash": "583f315ab2c4454ac71646021ec5cbb04a59949f624b3f601b92bbe98d2c1767"
   }
  }
 },
 "nbformat": 4,
 "nbformat_minor": 2
}
